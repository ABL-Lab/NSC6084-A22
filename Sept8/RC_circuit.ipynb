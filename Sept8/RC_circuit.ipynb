{
 "cells": [
  {
   "cell_type": "code",
   "execution_count": 1,
   "id": "3f76960c-f05d-4c5d-bd70-88b79cb16cea",
   "metadata": {},
   "outputs": [],
   "source": [
    "%matplotlib inline"
   ]
  },
  {
   "cell_type": "code",
   "execution_count": 2,
   "id": "52585226-9e8f-4b10-b9a4-7b8ac1624bbb",
   "metadata": {},
   "outputs": [],
   "source": [
    "import matplotlib.pyplot as plt"
   ]
  },
  {
   "cell_type": "code",
   "execution_count": null,
   "id": "acdff546-3746-40aa-95f7-e21c4bd66a93",
   "metadata": {},
   "outputs": [],
   "source": [
    "# For Google Colab, this line installs NEURON\n",
    "!pip install neuron"
   ]
  },
  {
   "cell_type": "code",
   "execution_count": 3,
   "id": "35b8535f-89d4-4304-8bd1-9e0cd76eec37",
   "metadata": {},
   "outputs": [],
   "source": [
    "import neuron"
   ]
  },
  {
   "cell_type": "code",
   "execution_count": 4,
   "id": "7bbdd553-88b5-4a6f-8f73-fa030ea01c32",
   "metadata": {},
   "outputs": [],
   "source": [
    "from neuron import h\n",
    "from neuron.units import ms, mV, µm, cm"
   ]
  },
  {
   "cell_type": "code",
   "execution_count": 5,
   "id": "19ffc1a9-497e-4522-bafb-7ed610b9e3a8",
   "metadata": {},
   "outputs": [
    {
     "data": {
      "text/plain": [
       "1.0"
      ]
     },
     "execution_count": 5,
     "metadata": {},
     "output_type": "execute_result"
    }
   ],
   "source": [
    "h.load_file(\"stdrun.hoc\")"
   ]
  },
  {
   "cell_type": "code",
   "execution_count": 70,
   "id": "a6acb16b-5ad6-4a7a-865c-bf5360462cad",
   "metadata": {},
   "outputs": [],
   "source": [
    "from numpy import sqrt, pi\n",
    "import numpy as np"
   ]
  },
  {
   "cell_type": "code",
   "execution_count": 7,
   "id": "e13401c0-f98c-48fe-aa11-0e4f18b4f513",
   "metadata": {},
   "outputs": [],
   "source": [
    "soma = h.Section()"
   ]
  },
  {
   "cell_type": "code",
   "execution_count": 8,
   "id": "6b2cd58a-2e4f-49e4-9b41-2dfb4ed41198",
   "metadata": {},
   "outputs": [],
   "source": [
    "soma.L = 10 * µm\n",
    "soma.diam =  10 * µm"
   ]
  },
  {
   "cell_type": "code",
   "execution_count": 9,
   "id": "25ee33fb-8d8d-4405-b24b-2d933db6fc66",
   "metadata": {},
   "outputs": [
    {
     "data": {
      "text/plain": [
       "1"
      ]
     },
     "execution_count": 9,
     "metadata": {},
     "output_type": "execute_result"
    }
   ],
   "source": [
    "soma.nseg"
   ]
  },
  {
   "cell_type": "code",
   "execution_count": 10,
   "id": "3c083424-9925-4bdf-8682-c1679d5a0351",
   "metadata": {},
   "outputs": [
    {
     "data": {
      "text/plain": [
       "785.3981633974483"
      ]
     },
     "execution_count": 10,
     "metadata": {},
     "output_type": "execute_result"
    }
   ],
   "source": [
    "soma(0.5).volume()"
   ]
  },
  {
   "cell_type": "code",
   "execution_count": 11,
   "id": "b6f6bebf-b533-4e29-9c42-35bd34a09613",
   "metadata": {},
   "outputs": [],
   "source": [
    "A = soma(0.5).area()"
   ]
  },
  {
   "cell_type": "code",
   "execution_count": 12,
   "id": "c34d3be4-eccc-49b3-8bc7-3886a580eb29",
   "metadata": {},
   "outputs": [],
   "source": [
    "f = soma(0.5).area"
   ]
  },
  {
   "cell_type": "code",
   "execution_count": 13,
   "id": "fb73e8ab-eebb-45a2-9330-6fe87d6e262d",
   "metadata": {},
   "outputs": [
    {
     "name": "stdout",
     "output_type": "stream",
     "text": [
      "Help on built-in function area:\n",
      "\n",
      "area(...) method of nrn.Segment instance\n",
      "    Segment area (um2) (same as h.area(sec(x), sec=sec))\n",
      "\n"
     ]
    }
   ],
   "source": [
    "help(f)"
   ]
  },
  {
   "cell_type": "code",
   "execution_count": 14,
   "id": "7c54e38d-5bd9-4c37-a395-ef1f8c482945",
   "metadata": {},
   "outputs": [
    {
     "data": {
      "text/plain": [
       "314.1592653589793"
      ]
     },
     "execution_count": 14,
     "metadata": {},
     "output_type": "execute_result"
    }
   ],
   "source": [
    "A"
   ]
  },
  {
   "cell_type": "code",
   "execution_count": 15,
   "id": "f68d7926-c2b9-4ab6-9893-ae0e836980e3",
   "metadata": {},
   "outputs": [],
   "source": [
    "Acm2 = A*1e-4*1e-4"
   ]
  },
  {
   "cell_type": "code",
   "execution_count": 16,
   "id": "c1995752-93ed-4621-a25c-c61717bc7e59",
   "metadata": {},
   "outputs": [
    {
     "data": {
      "text/plain": [
       "3.1415926535897938e-06"
      ]
     },
     "execution_count": 16,
     "metadata": {},
     "output_type": "execute_result"
    }
   ],
   "source": [
    "Acm2"
   ]
  },
  {
   "cell_type": "code",
   "execution_count": 17,
   "id": "2a95d23d-1994-4fe5-9f35-6ccac8268e2e",
   "metadata": {},
   "outputs": [
    {
     "data": {
      "text/plain": [
       "__nrnsec_0x5583fea46010"
      ]
     },
     "execution_count": 17,
     "metadata": {},
     "output_type": "execute_result"
    }
   ],
   "source": [
    "soma.insert(\"pas\")"
   ]
  },
  {
   "cell_type": "code",
   "execution_count": 18,
   "id": "e1234740-c1da-4d86-8381-235aa41080dc",
   "metadata": {},
   "outputs": [],
   "source": [
    "for sec in soma.wholetree():\n",
    "    sec.Ra = 100  # Axial resistance in Ohm * cm\n",
    "    sec.cm = 1  # Membrane capacitance in micro Farads / cm^2"
   ]
  },
  {
   "cell_type": "code",
   "execution_count": 19,
   "id": "a5af1355-6e73-4e52-8450-e2932030994a",
   "metadata": {},
   "outputs": [
    {
     "data": {
      "text/plain": [
       "'S/cm2'"
      ]
     },
     "execution_count": 19,
     "metadata": {},
     "output_type": "execute_result"
    }
   ],
   "source": [
    "h.units(\"g_pas\")"
   ]
  },
  {
   "cell_type": "code",
   "execution_count": 73,
   "id": "942d3d8d-2df4-497a-a13b-488ac2215f2b",
   "metadata": {},
   "outputs": [
    {
     "data": {
      "text/plain": [
       "'uF/cm2'"
      ]
     },
     "execution_count": 73,
     "metadata": {},
     "output_type": "execute_result"
    }
   ],
   "source": [
    "h.units(\"cm\")"
   ]
  },
  {
   "cell_type": "code",
   "execution_count": 56,
   "id": "5bd5ad89-4b23-4588-81d2-d748348c13dc",
   "metadata": {},
   "outputs": [],
   "source": [
    "G = 5 #nS"
   ]
  },
  {
   "cell_type": "code",
   "execution_count": 57,
   "id": "09152bde-8285-4e7d-83e6-287d696d93e9",
   "metadata": {},
   "outputs": [],
   "source": [
    "for seg in soma:\n",
    "    seg.pas.g = G/1e9/(Acm2) # 20 nS over the area A expressed in units of 'S/cm2'"
   ]
  },
  {
   "cell_type": "code",
   "execution_count": 58,
   "id": "4c2765d8-e6eb-4b40-abde-c32c7981cc89",
   "metadata": {},
   "outputs": [
    {
     "data": {
      "text/plain": [
       "{'point_processes': {'IClamp': {IClamp[0]}},\n",
       " 'density_mechs': {'pas': {'g': [0.0015915494309189531],\n",
       "   'e': [-70.0],\n",
       "   'i': [2.7140733281822007e-16]}},\n",
       " 'ions': {},\n",
       " 'morphology': {'L': 10.0,\n",
       "  'diam': [10.0],\n",
       "  'pts3d': [],\n",
       "  'parent': None,\n",
       "  'trueparent': None},\n",
       " 'nseg': 1,\n",
       " 'Ra': 100.0,\n",
       " 'cm': [1.0],\n",
       " 'regions': set(),\n",
       " 'species': set(),\n",
       " 'name': '__nrnsec_0x5583fea46010',\n",
       " 'hoc_internal_name': '__nrnsec_0x5583fea46010',\n",
       " 'cell': None}"
      ]
     },
     "execution_count": 58,
     "metadata": {},
     "output_type": "execute_result"
    }
   ],
   "source": [
    "soma.psection()"
   ]
  },
  {
   "cell_type": "code",
   "execution_count": 22,
   "id": "ad8b318a-8299-4095-921c-07a2dc4f8683",
   "metadata": {},
   "outputs": [],
   "source": [
    "stim = h.IClamp(soma(0.5))"
   ]
  },
  {
   "cell_type": "code",
   "execution_count": 60,
   "id": "c8597eb8-3230-4acd-a6e8-d6f7044eecd0",
   "metadata": {},
   "outputs": [],
   "source": [
    "stim.delay = 500\n",
    "stim.dur = 20\n",
    "stim.amp = 0.1"
   ]
  },
  {
   "cell_type": "code",
   "execution_count": 61,
   "id": "a389c282-8fd3-43f9-a341-61796319daef",
   "metadata": {},
   "outputs": [
    {
     "data": {
      "text/plain": [
       "0.1"
      ]
     },
     "execution_count": 61,
     "metadata": {},
     "output_type": "execute_result"
    }
   ],
   "source": [
    "stim.amp"
   ]
  },
  {
   "cell_type": "code",
   "execution_count": 93,
   "id": "3b38bec8-27dc-4e7c-9e92-fd130f2f2ac2",
   "metadata": {},
   "outputs": [],
   "source": [
    "soma_v = h.Vector().record(soma(0.5)._ref_v)\n",
    "g_i = h.Vector().record(soma(0.5).pas._ref_i)\n",
    "t = h.Vector().record(h._ref_t)"
   ]
  },
  {
   "cell_type": "code",
   "execution_count": 94,
   "id": "b75bcf4c-21ef-43b1-99bc-b3c1a73dd991",
   "metadata": {},
   "outputs": [
    {
     "data": {
      "text/plain": [
       "1.0"
      ]
     },
     "execution_count": 94,
     "metadata": {},
     "output_type": "execute_result"
    }
   ],
   "source": [
    "h.finitialize(-70 * mV)"
   ]
  },
  {
   "cell_type": "code",
   "execution_count": 95,
   "id": "88236cbb-b617-4286-9801-3291983ba857",
   "metadata": {},
   "outputs": [
    {
     "data": {
      "text/plain": [
       "0.0"
      ]
     },
     "execution_count": 95,
     "metadata": {},
     "output_type": "execute_result"
    }
   ],
   "source": [
    "h.t"
   ]
  },
  {
   "cell_type": "code",
   "execution_count": 96,
   "id": "fff010b0-8d85-4ab3-941b-59b4ebe50263",
   "metadata": {},
   "outputs": [
    {
     "data": {
      "text/plain": [
       "0.025"
      ]
     },
     "execution_count": 96,
     "metadata": {},
     "output_type": "execute_result"
    }
   ],
   "source": [
    "h.dt"
   ]
  },
  {
   "cell_type": "code",
   "execution_count": 97,
   "id": "74de7b71-7143-40f8-9cd0-ff171ea97f60",
   "metadata": {},
   "outputs": [
    {
     "data": {
      "text/plain": [
       "0.0"
      ]
     },
     "execution_count": 97,
     "metadata": {},
     "output_type": "execute_result"
    }
   ],
   "source": [
    "h.continuerun(1500 * ms)"
   ]
  },
  {
   "cell_type": "code",
   "execution_count": 98,
   "id": "7bfedfa0-2083-4d54-ac1b-317622a1c281",
   "metadata": {},
   "outputs": [],
   "source": [
    "v_infinity = soma(0.5).pas.e + stim.amp / G * 1000"
   ]
  },
  {
   "cell_type": "code",
   "execution_count": 99,
   "id": "fb7faf91-d66b-4df1-9c4e-a87eab5b783c",
   "metadata": {},
   "outputs": [
    {
     "data": {
      "text/plain": [
       "-50.0"
      ]
     },
     "execution_count": 99,
     "metadata": {},
     "output_type": "execute_result"
    }
   ],
   "source": [
    "v_infinity"
   ]
  },
  {
   "cell_type": "code",
   "execution_count": 100,
   "id": "96d5d653-5f42-4f8c-90aa-b2ba26e421ee",
   "metadata": {},
   "outputs": [],
   "source": [
    "tau = soma(0.5).cm / soma(0.5).pas.g / 1000 # convert from µs to ms"
   ]
  },
  {
   "cell_type": "code",
   "execution_count": 101,
   "id": "a512258d-bb13-40d8-a311-9cb0e1a63919",
   "metadata": {},
   "outputs": [
    {
     "data": {
      "text/plain": [
       "0.6283185307179587"
      ]
     },
     "execution_count": 101,
     "metadata": {},
     "output_type": "execute_result"
    }
   ],
   "source": [
    "tau"
   ]
  },
  {
   "cell_type": "code",
   "execution_count": 102,
   "id": "261d11cd-48de-4b31-904c-ccd548f9e5c0",
   "metadata": {},
   "outputs": [],
   "source": [
    "v_rest = soma(0.5).pas.e"
   ]
  },
  {
   "cell_type": "code",
   "execution_count": null,
   "id": "6575b140-d5bc-4d1b-b3b7-a85badc923b6",
   "metadata": {},
   "outputs": [],
   "source": []
  },
  {
   "cell_type": "code",
   "execution_count": 103,
   "id": "3735d58d-8b51-4a5e-9753-19c148225dbc",
   "metadata": {},
   "outputs": [],
   "source": [
    "t_theory = np.arange(500,520, 0.1)\n",
    "v_theory = v_rest + (v_infinity-v_rest)*(1-np.exp(-(t_theory-500)/tau))"
   ]
  },
  {
   "cell_type": "code",
   "execution_count": 104,
   "id": "eb867b27-60d2-4950-9a5f-6a9e91acbf40",
   "metadata": {},
   "outputs": [
    {
     "data": {
      "text/plain": [
       "(array([-75., -70., -65., -60., -55., -50., -45., -40., -35.]),\n",
       " [Text(0, 0, ''),\n",
       "  Text(0, 0, ''),\n",
       "  Text(0, 0, ''),\n",
       "  Text(0, 0, ''),\n",
       "  Text(0, 0, ''),\n",
       "  Text(0, 0, ''),\n",
       "  Text(0, 0, ''),\n",
       "  Text(0, 0, ''),\n",
       "  Text(0, 0, '')])"
      ]
     },
     "execution_count": 104,
     "metadata": {},
     "output_type": "execute_result"
    },
    {
     "data": {
      "image/png": "[encoded data removed]",
      "text/plain": [
       "<Figure size 432x288 with 1 Axes>"
      ]
     },
     "metadata": {
      "needs_background": "light"
     },
     "output_type": "display_data"
    }
   ],
   "source": [
    "plt.plot(t, soma_v, lw=2, label=\"soma(0.5).v\")\n",
    "plt.plot([t[0],t[-1]], [v_infinity, v_infinity], 'k--', label=\"$v_\\infty$\")\n",
    "plt.plot(t_theory, v_theory, 'r:', lw=2, label=\"theory\")\n",
    "plt.axis([490,550,-72, -35])\n",
    "plt.legend(fontsize=12)\n",
    "plt.xlabel(\"t [ms]\", size=16)\n",
    "plt.ylabel(\"v [mV]\", size=16)\n",
    "plt.xticks(size=12)\n",
    "plt.yticks(size=12)"
   ]
  },
  {
   "cell_type": "code",
   "execution_count": 117,
   "id": "03fb359d-a087-4348-96b2-b66a07d5c1c8",
   "metadata": {},
   "outputs": [
    {
     "data": {
      "text/plain": [
       "(490.0, 550.0, 0.0, 0.11)"
      ]
     },
     "execution_count": 117,
     "metadata": {},
     "output_type": "execute_result"
    },
    {
     "data": {
      "image/png": "[encoded data removed]",
      "text/plain": [
       "<Figure size 432x288 with 1 Axes>"
      ]
     },
     "metadata": {
      "needs_background": "light"
     },
     "output_type": "display_data"
    }
   ],
   "source": [
    "# Current on capacitor is stim.amp - current across pas.g (=pas.g.i; as recorded above into g_i)\n",
    "plt.plot(t, stim.amp - Acm2*g_i*1e6)\n",
    "plt.axis([490,550,0, 0.11])"
   ]
  },
  {
   "cell_type": "code",
   "execution_count": null,
   "id": "3ca1e51c-d974-402e-aadb-edf182a273d0",
   "metadata": {},
   "outputs": [],
   "source": []
  }
 ],
 "metadata": {
  "kernelspec": {
   "display_name": "Python 3 (ipykernel)",
   "language": "python",
   "name": "python3"
  },
  "language_info": {
   "codemirror_mode": {
    "name": "ipython",
    "version": 3
   },
   "file_extension": ".py",
   "mimetype": "text/x-python",
   "name": "python",
   "nbconvert_exporter": "python",
   "pygments_lexer": "ipython3",
   "version": "3.9.12"
  }
 },
 "nbformat": 4,
 "nbformat_minor": 5
}
