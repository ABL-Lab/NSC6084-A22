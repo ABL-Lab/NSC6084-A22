{
 "cells": [
  {
   "cell_type": "markdown",
   "id": "2c4f1c51-1948-4fd3-af0f-34faefe9d27c",
   "metadata": {
    "id": "2c4f1c51-1948-4fd3-af0f-34faefe9d27c",
    "tags": []
   },
   "source": [
    "# A passive neuron as a low-pass filter\n",
    "\n",
    "The neuron model is based on the RC circuit in NEURON.  "
   ]
  },
  {
   "cell_type": "markdown",
   "id": "91daf3d3-3137-4fdb-a3b1-9736f4496245",
   "metadata": {
    "id": "91daf3d3-3137-4fdb-a3b1-9736f4496245"
   },
   "source": [
    "## Step 1: Setup"
   ]
  },
  {
   "cell_type": "code",
   "execution_count": 1,
   "id": "3f76960c-f05d-4c5d-bd70-88b79cb16cea",
   "metadata": {
    "id": "3f76960c-f05d-4c5d-bd70-88b79cb16cea"
   },
   "outputs": [],
   "source": [
    "# Setup inline plotting\n",
    "%matplotlib inline\n",
    "import matplotlib.pyplot as plt"
   ]
  },
  {
   "cell_type": "code",
   "execution_count": 2,
   "id": "acdff546-3746-40aa-95f7-e21c4bd66a93",
   "metadata": {
    "colab": {
     "base_uri": "https://localhost:8080/"
    },
    "id": "acdff546-3746-40aa-95f7-e21c4bd66a93",
    "outputId": "4a06ae51-ff84-4a9e-b7a4-3c57ed109d59"
   },
   "outputs": [
    {
     "name": "stdout",
     "output_type": "stream",
     "text": [
      "Requirement already satisfied: neuron in /home/emuller/.vmgr_repo/dev-2021-010-py38/lib/python3.8/site-packages (8.1.0)\n",
      "Requirement already satisfied: quantities in /home/emuller/.vmgr_repo/dev-2021-010-py38/lib/python3.8/site-packages (0.13.0)\n",
      "Requirement already satisfied: numpy>=1.9.3 in /home/emuller/.vmgr_repo/dev-2021-010-py38/lib/python3.8/site-packages (from neuron) (1.21.2)\n",
      "\u001b[33mWARNING: There was an error checking the latest version of pip.\u001b[0m\u001b[33m\n",
      "\u001b[0m"
     ]
    }
   ],
   "source": [
    "# For Google Colab, this line installs NEURON\n",
    "!pip install neuron quantities"
   ]
  },
  {
   "cell_type": "code",
   "execution_count": 3,
   "id": "eb5e73d4-622b-46d7-be45-8e7e655ed086",
   "metadata": {
    "id": "eb5e73d4-622b-46d7-be45-8e7e655ed086"
   },
   "outputs": [],
   "source": [
    "# We will let this library handle unit conversion for us\n",
    "import quantities as pq\n",
    "from quantities import um, nS, mV, cm, ms, nA, S, uF, Hz, degrees"
   ]
  },
  {
   "cell_type": "code",
   "execution_count": 4,
   "id": "35b8535f-89d4-4304-8bd1-9e0cd76eec37",
   "metadata": {
    "colab": {
     "base_uri": "https://localhost:8080/"
    },
    "id": "35b8535f-89d4-4304-8bd1-9e0cd76eec37",
    "outputId": "7c926f1f-835d-442a-9538-dbb1a81251fc"
   },
   "outputs": [
    {
     "data": {
      "text/plain": [
       "1.0"
      ]
     },
     "execution_count": 4,
     "metadata": {},
     "output_type": "execute_result"
    }
   ],
   "source": [
    "# Import and initialize NEURON\n",
    "import neuron\n",
    "from neuron import h\n",
    "h.load_file(\"stdrun.hoc\")"
   ]
  },
  {
   "cell_type": "code",
   "execution_count": 5,
   "id": "a6acb16b-5ad6-4a7a-865c-bf5360462cad",
   "metadata": {
    "id": "a6acb16b-5ad6-4a7a-865c-bf5360462cad"
   },
   "outputs": [],
   "source": [
    "# Import other modules we need\n",
    "import numpy as np"
   ]
  },
  {
   "cell_type": "markdown",
   "id": "f83f6d94-1a9c-43f2-a983-11149d24d17a",
   "metadata": {
    "id": "f83f6d94-1a9c-43f2-a983-11149d24d17a"
   },
   "source": [
    "## Step 2: Define the circuit\n",
    "We will use a single compartment, called a \"Section\" (more on that in next lectures). <br>\n",
    "It has a cylindrical geometry with length \"L\" and a diameter \"diam\", and a specific capacitance \"cm\" (capacitance per area) <br>\n",
    "**Unit conversion is a common source of error, so we will be explicit with our units.** "
   ]
  },
  {
   "cell_type": "code",
   "execution_count": 6,
   "id": "e13401c0-f98c-48fe-aa11-0e4f18b4f513",
   "metadata": {
    "id": "e13401c0-f98c-48fe-aa11-0e4f18b4f513"
   },
   "outputs": [],
   "source": [
    "soma = h.Section()"
   ]
  },
  {
   "cell_type": "markdown",
   "id": "4cb84590-4966-45f1-842c-a8c19ac215fe",
   "metadata": {
    "id": "4cb84590-4966-45f1-842c-a8c19ac215fe"
   },
   "source": [
    "### Query NEURON for the expected units for soma.L & soma.diam"
   ]
  },
  {
   "cell_type": "code",
   "execution_count": 7,
   "id": "d95323fd-d419-4326-b303-20677d304524",
   "metadata": {
    "colab": {
     "base_uri": "https://localhost:8080/"
    },
    "id": "d95323fd-d419-4326-b303-20677d304524",
    "outputId": "9d337cd9-723d-4962-8dc6-2cbb7d2838e7"
   },
   "outputs": [
    {
     "data": {
      "text/plain": [
       "['um', 'um']"
      ]
     },
     "execution_count": 7,
     "metadata": {},
     "output_type": "execute_result"
    }
   ],
   "source": [
    "[h.units(x) for x in [\"L\", \"diam\"]]"
   ]
  },
  {
   "cell_type": "code",
   "execution_count": 8,
   "id": "6b2cd58a-2e4f-49e4-9b41-2dfb4ed41198",
   "metadata": {
    "id": "6b2cd58a-2e4f-49e4-9b41-2dfb4ed41198"
   },
   "outputs": [],
   "source": [
    "soma.L = 30 * um\n",
    "soma.diam =  30 * um"
   ]
  },
  {
   "cell_type": "code",
   "execution_count": 9,
   "id": "3c083424-9925-4bdf-8682-c1679d5a0351",
   "metadata": {
    "id": "3c083424-9925-4bdf-8682-c1679d5a0351"
   },
   "outputs": [],
   "source": [
    "volume = soma(0.5).volume() * um**3"
   ]
  },
  {
   "cell_type": "code",
   "execution_count": 10,
   "id": "b6f6bebf-b533-4e29-9c42-35bd34a09613",
   "metadata": {
    "id": "b6f6bebf-b533-4e29-9c42-35bd34a09613"
   },
   "outputs": [],
   "source": [
    "area = soma(0.5).area() * um**2"
   ]
  },
  {
   "cell_type": "markdown",
   "id": "5261a118-5c4f-4ed0-aa47-29567c762a0a",
   "metadata": {
    "id": "5261a118-5c4f-4ed0-aa47-29567c762a0a"
   },
   "source": [
    "### Assign the membrane capacitance \"everywhere\""
   ]
  },
  {
   "cell_type": "code",
   "execution_count": 11,
   "id": "942d3d8d-2df4-497a-a13b-488ac2215f2b",
   "metadata": {
    "colab": {
     "base_uri": "https://localhost:8080/",
     "height": 36
    },
    "id": "942d3d8d-2df4-497a-a13b-488ac2215f2b",
    "outputId": "f2e2b485-d34f-4c68-d5a2-a16e506c7749"
   },
   "outputs": [
    {
     "data": {
      "text/plain": [
       "'uF/cm2'"
      ]
     },
     "execution_count": 11,
     "metadata": {},
     "output_type": "execute_result"
    }
   ],
   "source": [
    "h.units(\"cm\")  # Query the expected units"
   ]
  },
  {
   "cell_type": "code",
   "execution_count": 12,
   "id": "2d63f42d-e209-4fdf-affc-025012ac32b9",
   "metadata": {},
   "outputs": [],
   "source": [
    "specific_membrane_capacitance = 1 * uF/cm**2"
   ]
  },
  {
   "cell_type": "code",
   "execution_count": 13,
   "id": "e1234740-c1da-4d86-8381-235aa41080dc",
   "metadata": {
    "id": "e1234740-c1da-4d86-8381-235aa41080dc"
   },
   "outputs": [],
   "source": [
    "for sec in soma.wholetree():\n",
    "    sec.cm = specific_membrane_capacitance #  specific membrane capacitance (micro Farads / cm^2)"
   ]
  },
  {
   "cell_type": "markdown",
   "id": "41cbfb41-b8ac-4469-b512-d7b98c2460a9",
   "metadata": {
    "id": "41cbfb41-b8ac-4469-b512-d7b98c2460a9"
   },
   "source": [
    "### Add (insert) a leak conductance G = 1/R"
   ]
  },
  {
   "cell_type": "code",
   "execution_count": 14,
   "id": "2a95d23d-1994-4fe5-9f35-6ccac8268e2e",
   "metadata": {
    "colab": {
     "base_uri": "https://localhost:8080/"
    },
    "id": "2a95d23d-1994-4fe5-9f35-6ccac8268e2e",
    "outputId": "cf5c7eaf-5194-4c75-bc73-be2e86ee76de"
   },
   "outputs": [
    {
     "data": {
      "text/plain": [
       "__nrnsec_0x269f280"
      ]
     },
     "execution_count": 14,
     "metadata": {},
     "output_type": "execute_result"
    }
   ],
   "source": [
    "soma.insert(\"pas\")"
   ]
  },
  {
   "cell_type": "code",
   "execution_count": 15,
   "id": "a5af1355-6e73-4e52-8450-e2932030994a",
   "metadata": {
    "colab": {
     "base_uri": "https://localhost:8080/",
     "height": 36
    },
    "id": "a5af1355-6e73-4e52-8450-e2932030994a",
    "outputId": "6d454679-ba53-4972-a646-95b0d26ad044"
   },
   "outputs": [
    {
     "data": {
      "text/plain": [
       "'S/cm2'"
      ]
     },
     "execution_count": 15,
     "metadata": {},
     "output_type": "execute_result"
    }
   ],
   "source": [
    "h.units(\"g_pas\")"
   ]
  },
  {
   "cell_type": "code",
   "execution_count": 16,
   "id": "5bd5ad89-4b23-4588-81d2-d748348c13dc",
   "metadata": {
    "id": "5bd5ad89-4b23-4588-81d2-d748348c13dc"
   },
   "outputs": [],
   "source": [
    "G = 5 * nS  # R = 1/G in our RC circuit"
   ]
  },
  {
   "cell_type": "code",
   "execution_count": 17,
   "id": "757fd83d-996f-4cd6-a0ad-c463031ce339",
   "metadata": {},
   "outputs": [],
   "source": [
    "v_rest = -70*mV"
   ]
  },
  {
   "cell_type": "code",
   "execution_count": 18,
   "id": "09152bde-8285-4e7d-83e6-287d696d93e9",
   "metadata": {
    "id": "09152bde-8285-4e7d-83e6-287d696d93e9"
   },
   "outputs": [],
   "source": [
    "# Assign the leak conductance everywhere\n",
    "for seg in soma:\n",
    "    seg.pas.g = (G/area).rescale(S/cm**2)  # Compute specific conductance, and rescale to units of 'S/cm2'\n",
    "    seg.pas.e = v_rest"
   ]
  },
  {
   "cell_type": "markdown",
   "id": "b85903a3-ac74-437f-91d9-1f284800cdb2",
   "metadata": {
    "id": "b85903a3-ac74-437f-91d9-1f284800cdb2"
   },
   "source": [
    "### Add a current injection"
   ]
  },
  {
   "cell_type": "code",
   "execution_count": 19,
   "id": "ad8b318a-8299-4095-921c-07a2dc4f8683",
   "metadata": {
    "id": "ad8b318a-8299-4095-921c-07a2dc4f8683"
   },
   "outputs": [],
   "source": [
    "stim = h.IClamp(soma(0.5))"
   ]
  },
  {
   "cell_type": "code",
   "execution_count": 20,
   "id": "c8597eb8-3230-4acd-a6e8-d6f7044eecd0",
   "metadata": {
    "id": "c8597eb8-3230-4acd-a6e8-d6f7044eecd0"
   },
   "outputs": [],
   "source": [
    "stim.delay = 0 * ms  # Inject current 500ms after the start of the simulation \n",
    "stim.dur = 1500 * ms  # stop injecting current at 520ms \n",
    "stim.amp = 0.1 * nA  # Inject 0.1 nA of current"
   ]
  },
  {
   "cell_type": "markdown",
   "id": "d6dd519f-6a89-4133-a2c8-59f3156866a5",
   "metadata": {},
   "source": [
    "### Add a sinusoidal current of frequency $f$"
   ]
  },
  {
   "cell_type": "code",
   "execution_count": 21,
   "id": "228facf2-247f-4c6e-aa16-3c2449ec7b45",
   "metadata": {},
   "outputs": [],
   "source": [
    "t_current = np.arange(0,1500,h.dt)*ms"
   ]
  },
  {
   "cell_type": "code",
   "execution_count": 22,
   "id": "eb80bdd0-6ea3-46be-a0e8-ee8742d1245d",
   "metadata": {},
   "outputs": [],
   "source": [
    "# Using pq.sin instead of np.sin handles time units for you \n",
    "f = 2*Hz\n",
    "I_amp = 0.1 * nA\n",
    "I_t = I_amp * pq.sin(2*np.pi*f*t_current)"
   ]
  },
  {
   "cell_type": "code",
   "execution_count": 23,
   "id": "3be6d785-a58f-49c5-bb61-201efb8860bf",
   "metadata": {},
   "outputs": [
    {
     "data": {
      "text/plain": [
       "Text(0, 0.5, 'current (nA)')"
      ]
     },
     "execution_count": 23,
     "metadata": {},
     "output_type": "execute_result"
    },
    {
     "data": {
      "image/png": "[encoded data removed]",
      "text/plain": [
       "<Figure size 432x288 with 1 Axes>"
      ]
     },
     "metadata": {
      "needs_background": "light"
     },
     "output_type": "display_data"
    }
   ],
   "source": [
    "plt.plot(t_current, I_t)\n",
    "plt.xlabel(\"time (ms)\")\n",
    "plt.ylabel(\"current (nA)\")"
   ]
  },
  {
   "cell_type": "code",
   "execution_count": 24,
   "id": "51ea315e-30b6-4dd8-a16d-8489863b550d",
   "metadata": {},
   "outputs": [],
   "source": [
    "v_I_t = h.Vector(I_t)\n",
    "v_t_current = h.Vector(t_current)"
   ]
  },
  {
   "cell_type": "code",
   "execution_count": 25,
   "id": "b0c23151-9d53-4e69-a5d5-6e0ee8f2b1ad",
   "metadata": {},
   "outputs": [
    {
     "data": {
      "text/plain": [
       "Vector[0]"
      ]
     },
     "execution_count": 25,
     "metadata": {},
     "output_type": "execute_result"
    }
   ],
   "source": [
    "v_I_t.play(stim._ref_amp, v_t_current, True)"
   ]
  },
  {
   "cell_type": "markdown",
   "id": "559c8aaf-a94e-4fe6-bcba-bbb1ee619ce3",
   "metadata": {
    "id": "559c8aaf-a94e-4fe6-bcba-bbb1ee619ce3"
   },
   "source": [
    "## Step 3: Run the simulation"
   ]
  },
  {
   "cell_type": "markdown",
   "id": "8ab8d065-2a5b-4564-878f-21e0911aec40",
   "metadata": {
    "id": "8ab8d065-2a5b-4564-878f-21e0911aec40"
   },
   "source": [
    "### Define recordings of simulation variables"
   ]
  },
  {
   "cell_type": "code",
   "execution_count": 26,
   "id": "3b38bec8-27dc-4e7c-9e92-fd130f2f2ac2",
   "metadata": {
    "id": "3b38bec8-27dc-4e7c-9e92-fd130f2f2ac2"
   },
   "outputs": [],
   "source": [
    "soma_v = h.Vector().record(soma(0.5)._ref_v)\n",
    "t = h.Vector().record(h._ref_t)"
   ]
  },
  {
   "cell_type": "markdown",
   "id": "44c70b88-dd4f-44b7-a303-7b2e79755393",
   "metadata": {
    "id": "44c70b88-dd4f-44b7-a303-7b2e79755393"
   },
   "source": [
    "### Set the initial voltage"
   ]
  },
  {
   "cell_type": "code",
   "execution_count": 27,
   "id": "b75bcf4c-21ef-43b1-99bc-b3c1a73dd991",
   "metadata": {
    "colab": {
     "base_uri": "https://localhost:8080/"
    },
    "id": "b75bcf4c-21ef-43b1-99bc-b3c1a73dd991",
    "outputId": "ac83e0f2-a7eb-48d3-e32c-c272964d04fa"
   },
   "outputs": [
    {
     "data": {
      "text/plain": [
       "1.0"
      ]
     },
     "execution_count": 27,
     "metadata": {},
     "output_type": "execute_result"
    }
   ],
   "source": [
    "h.finitialize( float(v_rest) )"
   ]
  },
  {
   "cell_type": "markdown",
   "id": "48786568-f87b-42b2-abcd-8ac51d38b421",
   "metadata": {},
   "source": [
    "### Run the simulation for 1500ms"
   ]
  },
  {
   "cell_type": "code",
   "execution_count": 28,
   "id": "74de7b71-7143-40f8-9cd0-ff171ea97f60",
   "metadata": {
    "colab": {
     "base_uri": "https://localhost:8080/"
    },
    "id": "74de7b71-7143-40f8-9cd0-ff171ea97f60",
    "outputId": "63b52271-a0ce-4835-c6a1-cffa68e85b1e"
   },
   "outputs": [
    {
     "data": {
      "text/plain": [
       "0.0"
      ]
     },
     "execution_count": 28,
     "metadata": {},
     "output_type": "execute_result"
    }
   ],
   "source": [
    "h.continuerun( float(1500 * ms) )"
   ]
  },
  {
   "cell_type": "code",
   "execution_count": 29,
   "id": "ba35958b-2991-4317-9fc0-ff5eb72d0882",
   "metadata": {},
   "outputs": [],
   "source": [
    "# What would be the voltage trace if it relaxed immediately to V_infinity (i.e. tau->0)\n",
    "# This can be computed by I*R_input + V_rest as discussed in the lecture.\n",
    "adiabatic_V = (I_t/G).rescale(mV)+v_rest"
   ]
  },
  {
   "cell_type": "markdown",
   "id": "3499dc95-65e2-4fef-8f7a-a93eb55765d2",
   "metadata": {
    "id": "3499dc95-65e2-4fef-8f7a-a93eb55765d2"
   },
   "source": [
    "## Step 4: Plot the results"
   ]
  },
  {
   "cell_type": "code",
   "execution_count": 30,
   "id": "cb056f27-2003-4121-ad42-102a3113d844",
   "metadata": {
    "colab": {
     "base_uri": "https://localhost:8080/",
     "height": 328
    },
    "id": "cb056f27-2003-4121-ad42-102a3113d844",
    "outputId": "ee03cb22-343d-434a-b41f-f68819840294"
   },
   "outputs": [
    {
     "data": {
      "text/plain": [
       "Text(0.5, 1.0, 'Current injection at f=2.000000 Hz')"
      ]
     },
     "execution_count": 30,
     "metadata": {},
     "output_type": "execute_result"
    },
    {
     "data": {
      "image/png": "[encoded data removed]",
      "text/plain": [
       "<Figure size 432x288 with 1 Axes>"
      ]
     },
     "metadata": {
      "needs_background": "light"
     },
     "output_type": "display_data"
    }
   ],
   "source": [
    "plt.plot(t, soma_v, lw=2, label=\"soma(0.5).v\")\n",
    "plt.plot(t_current, adiabatic_V, 'r--', lw=2, label=\"adiabatic V\")\n",
    "plt.legend(fontsize=12)\n",
    "plt.xlabel(\"t [ms]\", size=16)\n",
    "plt.ylabel(\"v [mV]\", size=16)\n",
    "plt.xticks(size=12)\n",
    "plt.yticks(size=12)\n",
    "plt.title(\"Current injection at f=%f Hz\" % f)"
   ]
  },
  {
   "cell_type": "code",
   "execution_count": 31,
   "id": "f2398586-c93b-4aa5-8d09-8081d7245f7b",
   "metadata": {},
   "outputs": [
    {
     "data": {
      "text/plain": [
       "19.94947166808773"
      ]
     },
     "execution_count": 31,
     "metadata": {},
     "output_type": "execute_result"
    }
   ],
   "source": [
    "(np.max(soma_v.to_python()) - np.min(soma_v.to_python()))/2"
   ]
  },
  {
   "cell_type": "code",
   "execution_count": 32,
   "id": "cfd88889-1926-4f6f-a831-1552e734f262",
   "metadata": {},
   "outputs": [
    {
     "data": {
      "text/plain": [
       "array(20.) * mV"
      ]
     },
     "execution_count": 32,
     "metadata": {},
     "output_type": "execute_result"
    }
   ],
   "source": [
    "# Computing adiabatic amplitude of voltage oscillations from input resistance Rin = 1/G\n",
    "(I_amp / G).rescale(mV)"
   ]
  },
  {
   "cell_type": "code",
   "execution_count": 33,
   "id": "f37d58f3-1be0-4596-ab4a-ddf3fe8caa6e",
   "metadata": {},
   "outputs": [],
   "source": [
    "def compute_amp_ratio(soma_V, adiabatic_v_amp):\n",
    "    # TODO - should probably throw away a first relaxation time of 200-500ms\n",
    "    soma_amp = (np.max(soma_v.to_python()) - np.min(soma_v.to_python()))/2\n",
    "    return soma_amp / adiabatic_v_amp"
   ]
  },
  {
   "cell_type": "code",
   "execution_count": 34,
   "id": "3acf8bb1-ff4c-4aa0-a645-8815f10a19c8",
   "metadata": {},
   "outputs": [],
   "source": [
    "def compute_phase_lag(soma_v, t, period):\n",
    "    \"\"\" Return phase lag in degrees \"\"\"\n",
    "    # TODO - should probably throw away a first relaxation time of 200-500ms\n",
    "    arr_t, arr_v = np.array(t), np.array(soma_v)\n",
    "    # find time index of 1 period\n",
    "    idx = arr_t.searchsorted(period)\n",
    "    # find peak within 1 period\n",
    "    idx_peak = np.argmax(arr_v[:idx])\n",
    "    t_peak = arr_t[idx_peak]\n",
    "    return (t_peak*ms - period/4) / period * 360 * degrees"
   ]
  },
  {
   "cell_type": "code",
   "execution_count": 113,
   "id": "a84931a1-b07e-4ae9-95f3-b595771373e5",
   "metadata": {},
   "outputs": [
    {
     "data": {
      "text/plain": [
       "array(0.99747358) * 1/mV"
      ]
     },
     "execution_count": 113,
     "metadata": {},
     "output_type": "execute_result"
    }
   ],
   "source": [
    "compute_amp_ratio(soma_v, (I_amp / G).rescale(mV))"
   ]
  },
  {
   "cell_type": "markdown",
   "id": "bd4ca8ea-ea09-403e-bb2f-72cf9d2aaaa4",
   "metadata": {},
   "source": [
    "There is a nice agreement between the amplitude of membrane voltage fluctuation, and the adiabatic amplitude given by $I(t)*R_{in}$, as can be seen in the plot above!"
   ]
  },
  {
   "cell_type": "markdown",
   "id": "99ba7d53-e43d-4613-9157-b67bb23e6e00",
   "metadata": {},
   "source": [
    "What about the phase of the oscillations?"
   ]
  },
  {
   "cell_type": "code",
   "execution_count": 35,
   "id": "1733b92c-25c0-4675-b3e3-cf495e1a753c",
   "metadata": {},
   "outputs": [],
   "source": [
    "period = (1/f).rescale(ms)"
   ]
  },
  {
   "cell_type": "code",
   "execution_count": 36,
   "id": "baf40811-04a6-4ecf-9bd6-3cbfed36b9f6",
   "metadata": {},
   "outputs": [
    {
     "data": {
      "text/plain": [
       "array(500.) * ms"
      ]
     },
     "execution_count": 36,
     "metadata": {},
     "output_type": "execute_result"
    }
   ],
   "source": [
    "period"
   ]
  },
  {
   "cell_type": "code",
   "execution_count": 37,
   "id": "0dc8a5eb-07e6-4432-bc1a-7c710a9ed698",
   "metadata": {},
   "outputs": [
    {
     "data": {
      "text/plain": [
       "array(4.068) * deg"
      ]
     },
     "execution_count": 37,
     "metadata": {},
     "output_type": "execute_result"
    }
   ],
   "source": [
    "compute_phase_lag(soma_v,t, period)"
   ]
  },
  {
   "cell_type": "markdown",
   "id": "092d4043-7faf-47a9-8a96-a25bebebef1b",
   "metadata": {},
   "source": [
    "The voltage oscillations follow closely the adiabatic oscillation given by $I(t)*R_{in}$, as can be seen in the plot above!"
   ]
  },
  {
   "cell_type": "markdown",
   "id": "16b0f408-8685-4b1c-a4c7-f06a3cb40124",
   "metadata": {},
   "source": [
    "### Now let's increase f. Can the membrane \"follow\" higher frequencies? "
   ]
  },
  {
   "cell_type": "code",
   "execution_count": 38,
   "id": "945a82e9-4e9b-48a6-8950-77d6959f1319",
   "metadata": {},
   "outputs": [],
   "source": [
    "# Using pq.sin instead of np.sin handles time units for you \n",
    "f = 50*Hz\n",
    "I_amp = 0.1 * nA\n",
    "I_t = I_amp * pq.sin(2*np.pi*f*t_current)"
   ]
  },
  {
   "cell_type": "code",
   "execution_count": 39,
   "id": "20f53a2e-9f07-4783-b4cb-5c45d1494900",
   "metadata": {},
   "outputs": [
    {
     "data": {
      "text/plain": [
       "Vector[0]"
      ]
     },
     "execution_count": 39,
     "metadata": {},
     "output_type": "execute_result"
    }
   ],
   "source": [
    "# Preserve v_I_t object in memory, but fill it with new current values\n",
    "v_I_t.from_python(I_t)"
   ]
  },
  {
   "cell_type": "code",
   "execution_count": 40,
   "id": "578de1e6-b9a0-441d-991a-a7531328d733",
   "metadata": {},
   "outputs": [
    {
     "data": {
      "text/plain": [
       "0.0"
      ]
     },
     "execution_count": 40,
     "metadata": {},
     "output_type": "execute_result"
    }
   ],
   "source": [
    "h.finitialize( float(v_rest) )\n",
    "h.continuerun( float(1500 * ms) )"
   ]
  },
  {
   "cell_type": "code",
   "execution_count": 41,
   "id": "13ae1816-023d-459d-bc34-e3c1b04a0910",
   "metadata": {},
   "outputs": [],
   "source": [
    "adiabatic_V = (I_t/G).rescale(mV)+v_rest"
   ]
  },
  {
   "cell_type": "code",
   "execution_count": 42,
   "id": "fa4aa745-d3e1-4c95-8de0-c2ad3c1e9e90",
   "metadata": {},
   "outputs": [
    {
     "data": {
      "text/plain": [
       "Text(0.5, 1.0, 'Current injection at f=50.000000 Hz')"
      ]
     },
     "execution_count": 42,
     "metadata": {},
     "output_type": "execute_result"
    },
    {
     "data": {
      "image/png": "[encoded data removed]",
      "text/plain": [
       "<Figure size 432x288 with 1 Axes>"
      ]
     },
     "metadata": {
      "needs_background": "light"
     },
     "output_type": "display_data"
    }
   ],
   "source": [
    "plt.plot(t, soma_v, lw=2, label=\"soma(0.5).v\")\n",
    "plt.plot(t_current, adiabatic_V, 'r--', lw=2, label=\"adiabatic V\")\n",
    "plt.axis([0, 200, -95, -45])\n",
    "plt.legend(fontsize=12)\n",
    "plt.xlabel(\"t [ms]\", size=16)\n",
    "plt.ylabel(\"v [mV]\", size=16)\n",
    "plt.xticks(size=12)\n",
    "plt.yticks(size=12)\n",
    "plt.title(\"Current injection at f=%f Hz\" % f)"
   ]
  },
  {
   "cell_type": "code",
   "execution_count": 43,
   "id": "7e735afd-7977-4d0c-ad6e-0d7bd13525c9",
   "metadata": {},
   "outputs": [
    {
     "data": {
      "text/plain": [
       "array(0.54007415) * 1/mV"
      ]
     },
     "execution_count": 43,
     "metadata": {},
     "output_type": "execute_result"
    }
   ],
   "source": [
    "compute_amp_ratio(soma_v, (I_amp / G).rescale(mV))"
   ]
  },
  {
   "cell_type": "code",
   "execution_count": 44,
   "id": "222bd5cb-0601-4b48-a6d1-88f9bed07c9f",
   "metadata": {},
   "outputs": [],
   "source": [
    "period = (1/f).rescale(ms)"
   ]
  },
  {
   "cell_type": "code",
   "execution_count": 45,
   "id": "fa8ed4f3-d15f-4f1d-beb6-08e034aee568",
   "metadata": {},
   "outputs": [
    {
     "data": {
      "text/plain": [
       "array(20.) * ms"
      ]
     },
     "execution_count": 45,
     "metadata": {},
     "output_type": "execute_result"
    }
   ],
   "source": [
    "period"
   ]
  },
  {
   "cell_type": "code",
   "execution_count": 46,
   "id": "e0f277eb-855b-4f85-8b99-2aa4d9b5eeab",
   "metadata": {},
   "outputs": [
    {
     "data": {
      "text/plain": [
       "array(54.) * deg"
      ]
     },
     "execution_count": 46,
     "metadata": {},
     "output_type": "execute_result"
    }
   ],
   "source": [
    "compute_phase_lag(soma_v,t, period)"
   ]
  },
  {
   "cell_type": "markdown",
   "id": "bfc89ecc-0ed5-425c-aeca-532549adb477",
   "metadata": {},
   "source": [
    "Now the voltage oscillations are having trouble keeping up! They trail the adiabatic oscillation given by $I(t)*R_{in}$ by more than a quarter period (45 degrees), as can be seen in the plot above."
   ]
  },
  {
   "cell_type": "markdown",
   "id": "1dba09d2-47a7-4c97-a642-2262098b8c14",
   "metadata": {},
   "source": [
    "### Cut-off frequency of a low-pass filter\n",
    "\n",
    "The cut-off fequency, $f_c$, is defined as the frequency where the amplitude of the $v_m$ oscillations is 70.7% of the adiabatic voltage $I_{stim}*R_{in}$ and where the phase of the oscillations lags by 1/8th of an oscillation period (45 degrees or $\\pi/4$).\n",
    "\n",
    "From circuit analysis, we expect that $f_c = 1/2\\pi \\tau_m$\n",
    "\n",
    "![low-pass filter diagram could not be fetched](https://www.electronics-tutorials.ws/wp-content/uploads/2018/05/filter-fil10.gif)"
   ]
  },
  {
   "cell_type": "code",
   "execution_count": 52,
   "id": "38f89b49-b48d-4929-bebf-f5a41269e617",
   "metadata": {},
   "outputs": [
    {
     "data": {
      "text/plain": [
       "-3.0116117240620124"
      ]
     },
     "execution_count": 52,
     "metadata": {},
     "output_type": "execute_result"
    }
   ],
   "source": [
    "# Converting a voltage ratio of 70.7% to dB\n",
    "20 * np.log10(0.707)"
   ]
  },
  {
   "cell_type": "markdown",
   "id": "0d2aa499-7b55-4836-be51-7025190bf754",
   "metadata": {},
   "source": [
    "## Now it's your turn!"
   ]
  },
  {
   "cell_type": "markdown",
   "id": "1b5e4683-3c85-4691-93c1-de7d80e91efa",
   "metadata": {},
   "source": [
    "### **Question 1** \n",
    "Find the cut-off frequency of the membrane using the expression above.\n"
   ]
  },
  {
   "cell_type": "code",
   "execution_count": null,
   "id": "f2905b83-9030-4a74-a0ef-18dbbd0d5b50",
   "metadata": {},
   "outputs": [],
   "source": []
  },
  {
   "cell_type": "markdown",
   "id": "ccfab2db-1f25-4116-94b2-20e872e9c2f9",
   "metadata": {},
   "source": [
    "### **Question 2**\n",
    "Plot the phase and attenuation = $V_m / V_{\\infty}$ for a range of frequencies around $f_c$.  Does an attenuation of $\\approx 70.7%$ and phase lag of 1/8th the period occur at $f_c$? Visualize the voltage traces for $f = f_c$, $f = 1/10 * f_c$ (low frequency) and $f = 10 * f_c$ (high frequency).<br>\n",
    "<br>\n",
    "**Hint**: You should use a *for* loop, and the **compute_amp_ratio** and **compute_phase_lag** functions above. For re-running the simulation, follow the example \"Now let's increase f.\""
   ]
  },
  {
   "cell_type": "code",
   "execution_count": null,
   "id": "e261c079-3d25-4d22-9da2-80cbabe0624b",
   "metadata": {},
   "outputs": [],
   "source": []
  }
 ],
 "metadata": {
  "colab": {
   "provenance": []
  },
  "kernelspec": {
   "display_name": "Python 3 (ipykernel)",
   "language": "python",
   "name": "python3"
  },
  "language_info": {
   "codemirror_mode": {
    "name": "ipython",
    "version": 3
   },
   "file_extension": ".py",
   "mimetype": "text/x-python",
   "name": "python",
   "nbconvert_exporter": "python",
   "pygments_lexer": "ipython3",
   "version": "3.8.10"
  }
 },
 "nbformat": 4,
 "nbformat_minor": 5
}
